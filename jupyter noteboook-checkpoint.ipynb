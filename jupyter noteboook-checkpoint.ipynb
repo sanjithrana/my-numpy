{
 "cells": [
  {
   "cell_type": "markdown",
   "id": "b6cc903a",
   "metadata": {},
   "source": [
    "# random\n"
   ]
  },
  {
   "cell_type": "code",
   "execution_count": 10,
   "id": "75348f9d",
   "metadata": {},
   "outputs": [],
   "source": [
    "from numpy import random\n",
    "\n",
    "import numpy as np"
   ]
  },
  {
   "cell_type": "code",
   "execution_count": 3,
   "id": "a33f01b9",
   "metadata": {},
   "outputs": [
    {
     "name": "stdout",
     "output_type": "stream",
     "text": [
      "36\n"
     ]
    }
   ],
   "source": [
    "a = random.randint(100)\n",
    "print(a)"
   ]
  },
  {
   "cell_type": "code",
   "execution_count": 23,
   "id": "e2b0423d",
   "metadata": {},
   "outputs": [
    {
     "name": "stdout",
     "output_type": "stream",
     "text": [
      "[]\n"
     ]
    }
   ],
   "source": [
    "a = random.rand(0)\n",
    "print(a)"
   ]
  },
  {
   "cell_type": "code",
   "execution_count": 19,
   "id": "a2aa68e2",
   "metadata": {},
   "outputs": [
    {
     "name": "stdout",
     "output_type": "stream",
     "text": [
      "[0.77746097 0.69907263 0.77771481 0.72260357 0.9750637 ]\n"
     ]
    }
   ],
   "source": [
    "a = random.rand(5)\n",
    "print(a)"
   ]
  },
  {
   "cell_type": "code",
   "execution_count": 42,
   "id": "5e4c56ab",
   "metadata": {},
   "outputs": [
    {
     "name": "stdout",
     "output_type": "stream",
     "text": [
      "[[16 11 15]\n",
      " [ 9 17  1]\n",
      " [ 9  0  2]\n",
      " [16 12 10]]\n"
     ]
    }
   ],
   "source": [
    "z = random.randint(19, size=(4,3))\n",
    "print(z)"
   ]
  },
  {
   "cell_type": "code",
   "execution_count": 43,
   "id": "12b9ef10",
   "metadata": {},
   "outputs": [
    {
     "name": "stdout",
     "output_type": "stream",
     "text": [
      "6\n"
     ]
    }
   ],
   "source": [
    "s = random.choice([1,3,4,5,6])\n",
    "print(s)"
   ]
  },
  {
   "cell_type": "code",
   "execution_count": 53,
   "id": "f148e33b",
   "metadata": {},
   "outputs": [
    {
     "name": "stdout",
     "output_type": "stream",
     "text": [
      "[[1 1]\n",
      " [1 1]\n",
      " [1 1]\n",
      " [0 1]]\n"
     ]
    }
   ],
   "source": [
    "aa = random.choice([0,1],size=(4,2))\n",
    "print(aa)"
   ]
  },
  {
   "cell_type": "code",
   "execution_count": 60,
   "id": "d07b95e7",
   "metadata": {},
   "outputs": [
    {
     "name": "stdout",
     "output_type": "stream",
     "text": [
      "[[0.3331494  0.79988687 0.84071212]\n",
      " [0.41878647 0.07004741 0.22996161]\n",
      " [0.13253185 0.78849113 0.72778102]\n",
      " [0.71580975 0.94467068 0.9159222 ]]\n"
     ]
    }
   ],
   "source": [
    "var = np.random.rand(4,3)\n",
    "\n",
    "print(var)"
   ]
  },
  {
   "cell_type": "markdown",
   "id": "3982f4f8",
   "metadata": {},
   "source": [
    "# data types"
   ]
  },
  {
   "cell_type": "markdown",
   "id": "5aeceede",
   "metadata": {},
   "source": [
    "i - integer\n",
    "b - boolean\n",
    "u - unsigned integer\n",
    "f - float\n",
    "c - complex float\n",
    "m - timedelta\n",
    "M - datetime\n",
    "O - object\n",
    "S - string\n",
    "U - unicode string\n",
    "V - fixed chunk of memory for other type ( void )"
   ]
  },
  {
   "cell_type": "code",
   "execution_count": 62,
   "id": "725389a7",
   "metadata": {},
   "outputs": [
    {
     "name": "stdout",
     "output_type": "stream",
     "text": [
      "Data Type :  int32\n"
     ]
    }
   ],
   "source": [
    "\n",
    "var1 = np.array([1,2,3,4,5])\n",
    "print(\"Data Type : \",var1.dtype)"
   ]
  },
  {
   "cell_type": "code",
   "execution_count": 64,
   "id": "5b5f5eb6",
   "metadata": {},
   "outputs": [
    {
     "name": "stdout",
     "output_type": "stream",
     "text": [
      "Data type :  float64\n"
     ]
    }
   ],
   "source": [
    "var2 = np.array([1.2,2.3,4.4])\n",
    "print(\"Data type : \",var2.dtype)"
   ]
  },
  {
   "cell_type": "code",
   "execution_count": 67,
   "id": "befebabd",
   "metadata": {},
   "outputs": [
    {
     "name": "stdout",
     "output_type": "stream",
     "text": [
      "Data Type :  <U6\n"
     ]
    }
   ],
   "source": [
    "var3 = np.array([\"aarry\",\"banna\",\"sanith\"])\n",
    "print(\"Data Type : \",var3.dtype)"
   ]
  },
  {
   "cell_type": "code",
   "execution_count": 71,
   "id": "a49ab93b",
   "metadata": {},
   "outputs": [
    {
     "name": "stdout",
     "output_type": "stream",
     "text": [
      "Data Type :  float32\n"
     ]
    }
   ],
   "source": [
    "var1 = np.array([1,2,3,4,5],dtype='f')\n",
    "print(\"Data Type : \",var1.dtype)"
   ]
  },
  {
   "cell_type": "code",
   "execution_count": 75,
   "id": "8c36505a",
   "metadata": {},
   "outputs": [
    {
     "name": "stdout",
     "output_type": "stream",
     "text": [
      "[1. 2. 3. 4. 5.]\n",
      "Data Type :  float32\n"
     ]
    }
   ],
   "source": [
    "var1 = np.array([1,2,3,4,5])\n",
    "var2 = var1.astype(\"f\")\n",
    "print(var2)\n",
    "print(\"Data Type : \",var2.dtype)"
   ]
  },
  {
   "cell_type": "markdown",
   "id": "f4ee45eb",
   "metadata": {},
   "source": [
    "# arithimatic operations"
   ]
  },
  {
   "cell_type": "code",
   "execution_count": 79,
   "id": "6dd9d159",
   "metadata": {},
   "outputs": [
    {
     "name": "stdout",
     "output_type": "stream",
     "text": [
      "[3 4 5 6]\n"
     ]
    }
   ],
   "source": [
    "var = np.array([1,2,3,4])\n",
    "var2 = var +2\n",
    "print(var2)"
   ]
  },
  {
   "cell_type": "code",
   "execution_count": 80,
   "id": "2a49d5e4",
   "metadata": {},
   "outputs": [
    {
     "name": "stdout",
     "output_type": "stream",
     "text": [
      "[ 6  8 10 12]\n"
     ]
    }
   ],
   "source": [
    "var1 = np.array([1,2,3,4])\n",
    "var2 = np.array([5,6,7,8])\n",
    "print(var1+var2)"
   ]
  },
  {
   "cell_type": "code",
   "execution_count": 81,
   "id": "283b0480",
   "metadata": {},
   "outputs": [
    {
     "name": "stdout",
     "output_type": "stream",
     "text": [
      "[-4 -4 -4 -4]\n"
     ]
    }
   ],
   "source": [
    "var1 = np.array([1,2,3,4])\n",
    "var2 = np.array([5,6,7,8])\n",
    "print(var1-var2)"
   ]
  },
  {
   "cell_type": "code",
   "execution_count": 82,
   "id": "0ad9dd2e",
   "metadata": {},
   "outputs": [
    {
     "name": "stdout",
     "output_type": "stream",
     "text": [
      "[ 5 12 21 32]\n"
     ]
    }
   ],
   "source": [
    "var1 = np.array([1,2,3,4])\n",
    "var2 = np.array([5,6,7,8])\n",
    "print(var1*var2)"
   ]
  },
  {
   "cell_type": "code",
   "execution_count": 84,
   "id": "5c97db07",
   "metadata": {},
   "outputs": [
    {
     "name": "stdout",
     "output_type": "stream",
     "text": [
      "[[ 3  4  5  6]\n",
      " [ 7  8  9 10]]\n"
     ]
    }
   ],
   "source": [
    "var1 = np.array([[1,2,3,4],[5,6,7,8]])\n",
    "\n",
    "print(var1+2)"
   ]
  },
  {
   "cell_type": "code",
   "execution_count": 86,
   "id": "717de840",
   "metadata": {},
   "outputs": [
    {
     "name": "stdout",
     "output_type": "stream",
     "text": [
      "[[ 2  8 10 12]\n",
      " [ 6  8 10 12]]\n"
     ]
    }
   ],
   "source": [
    "var1 = np.array([[1,2,3,4],[5,6,7,8]])\n",
    "var2 = np.array([[1,6,7,8],[1,2,3,4,]])\n",
    "print(var1+var2)"
   ]
  },
  {
   "cell_type": "code",
   "execution_count": 87,
   "id": "03d37b28",
   "metadata": {},
   "outputs": [
    {
     "name": "stdout",
     "output_type": "stream",
     "text": [
      "[[ 1 12 21 32]\n",
      " [ 5 12 21 32]]\n"
     ]
    }
   ],
   "source": [
    "var1 = np.array([[1,2,3,4],[5,6,7,8]])\n",
    "var2 = np.array([[1,6,7,8],[1,2,3,4,]])\n",
    "print(var1*var2)"
   ]
  },
  {
   "cell_type": "code",
   "execution_count": 89,
   "id": "ac88f729",
   "metadata": {},
   "outputs": [
    {
     "name": "stdout",
     "output_type": "stream",
     "text": [
      "[[1 0 0 0]\n",
      " [0 0 0 0]]\n"
     ]
    }
   ],
   "source": [
    "var1 = np.array([[1,2,3,4],[5,6,7,8]])\n",
    "var2 = np.reciprocal(var1)\n",
    "print(var2)"
   ]
  },
  {
   "cell_type": "markdown",
   "id": "00d846e3",
   "metadata": {},
   "source": [
    "# arithimatic functions"
   ]
  },
  {
   "cell_type": "code",
   "execution_count": 2,
   "id": "56ed90c4",
   "metadata": {},
   "outputs": [
    {
     "name": "stdout",
     "output_type": "stream",
     "text": [
      "[1 2 1 4 2 8 3 9]\n",
      "min:  1\n",
      "max:  9\n"
     ]
    }
   ],
   "source": [
    "import numpy as np\n",
    "var12 = np.array([1,2,1,4,2,8,3,9])\n",
    "print(var12)\n",
    "print(\"min: \",np.min(var12))\n",
    "print(\"max: \",np.max(var12))"
   ]
  },
  {
   "cell_type": "code",
   "execution_count": 4,
   "id": "981eb8e3",
   "metadata": {},
   "outputs": [
    {
     "name": "stdout",
     "output_type": "stream",
     "text": [
      "[1 2 1 4 2 8 3 9]\n",
      "min:  1 pos :  0\n",
      "max:  9 pos :  7\n"
     ]
    }
   ],
   "source": [
    "var12 = np.array([1,2,1,4,2,8,3,9])\n",
    "print(var12)\n",
    "print(\"min: \",np.min(var12),\"pos : \",np.argmin(var12))\n",
    "print(\"max: \",np.max(var12),\"pos : \",np.argmax(var12))"
   ]
  },
  {
   "cell_type": "code",
   "execution_count": 19,
   "id": "a9657bbd",
   "metadata": {},
   "outputs": [
    {
     "name": "stdout",
     "output_type": "stream",
     "text": [
      "[[3 4 2]\n",
      " [1 5 7]\n",
      " [1 8 4]]\n",
      "sqrt:  [[1.73205081 2.         1.41421356]\n",
      " [1.         2.23606798 2.64575131]\n",
      " [1.         2.82842712 2.        ]]\n",
      "min:  [2 1 1] pos:  [2 0 0]\n",
      "max:  [3 8 7] pos:  [0 2 1]\n"
     ]
    }
   ],
   "source": [
    "# 1 = row\n",
    "# 0 = col\n",
    "\n",
    "var1 = np.array([[3,4,2],[1,5,7],[1,8,4]])\n",
    "print(var1)\n",
    "\n",
    "print(\"min: \",np.min(var1,axis=1),\"pos: \",np.argmin(var1,axis=1))\n",
    "print(\"max: \",np.max(var1,axis=0),\"pos: \",np.argmax(var1,axis = 0))"
   ]
  },
  {
   "cell_type": "code",
   "execution_count": 24,
   "id": "9ebfc6da",
   "metadata": {},
   "outputs": [
    {
     "name": "stdout",
     "output_type": "stream",
     "text": [
      "[[3 4 2]\n",
      " [1 5 7]\n",
      " [1 8 4]]\n",
      "sqrt:  [[1.73205081 2.         1.41421356]\n",
      " [1.         2.23606798 2.64575131]\n",
      " [1.         2.82842712 2.        ]]\n",
      "\n",
      "sin [[ 0.14112001 -0.7568025   0.90929743]\n",
      " [ 0.84147098 -0.95892427  0.6569866 ]\n",
      " [ 0.84147098  0.98935825 -0.7568025 ]]\n",
      "\n",
      "cos [[-0.9899925  -0.65364362 -0.41614684]\n",
      " [ 0.54030231  0.28366219  0.75390225]\n",
      " [ 0.54030231 -0.14550003 -0.65364362]]\n",
      "\n",
      "35\n"
     ]
    }
   ],
   "source": [
    "\n",
    "var1 = np.array([[3,4,2],[1,5,7],[1,8,4]])\n",
    "print(var1)\n",
    "print(\"sqrt: \",np.sqrt(var1))\n",
    "print()\n",
    "print(\"sin\",np.sin(var1))\n",
    "print()\n",
    "print(\"cos\",np.cos(var1))\n",
    "print()\n",
    "varrr = np.cumsum(var1)\n",
    "print(np.max(varrr))"
   ]
  },
  {
   "cell_type": "markdown",
   "id": "b7aaa695",
   "metadata": {},
   "source": [
    "\n",
    "# shape in numpy"
   ]
  },
  {
   "cell_type": "code",
   "execution_count": 29,
   "id": "d372d7ce",
   "metadata": {},
   "outputs": [
    {
     "name": "stdout",
     "output_type": "stream",
     "text": [
      "(2, 4)\n",
      "[[1 2 3 4]\n",
      " [4 5 5 6]]\n"
     ]
    }
   ],
   "source": [
    "arr = np.array([[1,2,3,4],[4,5,5,6]])\n",
    "print(arr.shape)\n",
    "print(arr)"
   ]
  },
  {
   "cell_type": "code",
   "execution_count": 33,
   "id": "6f2cb670",
   "metadata": {},
   "outputs": [
    {
     "name": "stdout",
     "output_type": "stream",
     "text": [
      "[[[[[1 2 3 4]]]]]\n",
      "(1, 1, 1, 1, 4)\n"
     ]
    }
   ],
   "source": [
    "arr1 = np.array([1,2,3,4], ndmin=5)\n",
    "\n",
    "print(arr1)\n",
    "print(arr1.shape)"
   ]
  },
  {
   "cell_type": "markdown",
   "id": "55a19bcc",
   "metadata": {},
   "source": [
    "# reshap"
   ]
  },
  {
   "cell_type": "code",
   "execution_count": 48,
   "id": "c0173984",
   "metadata": {},
   "outputs": [
    {
     "name": "stdout",
     "output_type": "stream",
     "text": [
      "[ 2  3  4  5  6  7  8  9  0 23 45  3]\n",
      "[[ 2  3  4  5]\n",
      " [ 6  7  8  9]\n",
      " [ 0 23 45  3]]\n"
     ]
    }
   ],
   "source": [
    "arr12 = np.array([2,3,4,5,6,7,8,9,0,23,45,3])\n",
    "print(arr12)\n",
    "newarr = arr12.reshape(3,4)\n",
    "\n",
    "print(newarr)"
   ]
  },
  {
   "cell_type": "code",
   "execution_count": 54,
   "id": "8424815c",
   "metadata": {},
   "outputs": [
    {
     "name": "stdout",
     "output_type": "stream",
     "text": [
      "[ 2  3  4  5  6  7  8  9  0 23 45  3]\n",
      "[[[ 2  3  4]\n",
      "  [ 5  6  7]\n",
      "  [ 8  9  0]]\n",
      "\n",
      " [[23 45 38]\n",
      "  [ 9  0 23]\n",
      "  [45  2  3]]]\n"
     ]
    }
   ],
   "source": [
    "arr2 = np.array([2,3,4,5,6,7,8,9,0,23,45,38,9,0,23,45,2,3])\n",
    "print(arr12)\n",
    "newarr1 = arr2.reshape(2,3,3)\n",
    "\n",
    "print(newarr1)"
   ]
  },
  {
   "cell_type": "code",
   "execution_count": 65,
   "id": "679df8c8",
   "metadata": {},
   "outputs": [
    {
     "name": "stdout",
     "output_type": "stream",
     "text": [
      "[2 3 4 5 6 7 8 9 3]\n",
      "[[[2]\n",
      "  [3]\n",
      "  [4]]\n",
      "\n",
      " [[5]\n",
      "  [6]\n",
      "  [7]]\n",
      "\n",
      " [[8]\n",
      "  [9]\n",
      "  [3]]]\n"
     ]
    }
   ],
   "source": [
    "arr12 = np.array([2,3,4,5,6,7,8,9,3])\n",
    "print(arr12)\n",
    "newarr = arr12.reshape(3,3,-1)\n",
    "\n",
    "print(newarr)"
   ]
  },
  {
   "cell_type": "code",
   "execution_count": 66,
   "id": "a20fd7b3",
   "metadata": {},
   "outputs": [
    {
     "name": "stdout",
     "output_type": "stream",
     "text": [
      "[1 2 3 4 5 6]\n"
     ]
    }
   ],
   "source": [
    "arr = np.array([[1, 2, 3], [4, 5, 6]])\n",
    "\n",
    "newarr = arr.reshape(-1)\n",
    "\n",
    "print(newarr)"
   ]
  },
  {
   "cell_type": "code",
   "execution_count": null,
   "id": "96cd9261",
   "metadata": {},
   "outputs": [],
   "source": []
  },
  {
   "cell_type": "code",
   "execution_count": 71,
   "id": "48f2304d",
   "metadata": {},
   "outputs": [
    {
     "name": "stdout",
     "output_type": "stream",
     "text": [
      "(3,)\n",
      "\n",
      "1\n",
      "\n",
      "[1 2 3]\n",
      "\n",
      "(3,)\n",
      "\n",
      "1\n",
      "\n",
      "[[1]\n",
      " [2]\n",
      " [3]]\n",
      "\n",
      "[[2 3 4]\n",
      " [3 4 5]\n",
      " [4 5 6]]\n"
     ]
    }
   ],
   "source": [
    "var1 = np.array([1,2,3])\n",
    "print(var1.shape)\n",
    "print()\n",
    "print(var1.ndim)\n",
    "print()\n",
    "print(var1)\n",
    "print()\n",
    "var2 = np.array([[1],[2],[3]])\n",
    "print(var1.shape)\n",
    "print()\n",
    "print(var1.ndim)\n",
    "print()\n",
    "print(var2)\n",
    "print()\n",
    "print(var1+var2)"
   ]
  },
  {
   "cell_type": "code",
   "execution_count": 72,
   "id": "079ff337",
   "metadata": {},
   "outputs": [
    {
     "name": "stdout",
     "output_type": "stream",
     "text": [
      "(2, 1)\n",
      "\n",
      "2\n",
      "\n",
      "[[1]\n",
      " [2]]\n",
      "\n",
      "(2, 1)\n",
      "\n",
      "2\n",
      "\n",
      "[[1 2 3]\n",
      " [2 3 4]]\n",
      "\n",
      "[[2 3 4]\n",
      " [4 5 6]]\n"
     ]
    }
   ],
   "source": [
    "var1 = np.array([[1],[2]])\n",
    "print(var1.shape)\n",
    "print()\n",
    "print(var1.ndim)\n",
    "print()\n",
    "print(var1)\n",
    "print()\n",
    "var2 = np.array([[1,2,3],[2,3,4]])\n",
    "print(var1.shape)\n",
    "print()\n",
    "print(var1.ndim)\n",
    "print()\n",
    "print(var2)\n",
    "print()\n",
    "print(var1+var2)"
   ]
  },
  {
   "cell_type": "markdown",
   "id": "7379027e",
   "metadata": {},
   "source": [
    "# indexing"
   ]
  },
  {
   "cell_type": "raw",
   "id": "de0c719e",
   "metadata": {},
   "source": []
  },
  {
   "cell_type": "code",
   "execution_count": 74,
   "id": "341a1fb9",
   "metadata": {},
   "outputs": [
    {
     "name": "stdout",
     "output_type": "stream",
     "text": [
      "1\n",
      "4\n"
     ]
    }
   ],
   "source": [
    "var = np.array([1,2,3,4])\n",
    "print(var[0])\n",
    "print(var[3])"
   ]
  },
  {
   "cell_type": "code",
   "execution_count": 83,
   "id": "8f35764a",
   "metadata": {},
   "outputs": [
    {
     "name": "stdout",
     "output_type": "stream",
     "text": [
      "[2 2 3]\n",
      "23\n",
      "1\n"
     ]
    }
   ],
   "source": [
    "var1 = np.array([[2,2,3],[1,23,4]])\n",
    "print(var1[0])\n",
    "print(var1[1,1])\n",
    "print(var1[-1,0])"
   ]
  },
  {
   "cell_type": "code",
   "execution_count": 99,
   "id": "d1f7c852",
   "metadata": {},
   "outputs": [
    {
     "name": "stdout",
     "output_type": "stream",
     "text": [
      "[[[1 2 3]\n",
      "  [4 5 6]\n",
      "  [3 5 6]]\n",
      "\n",
      " [[2 4 7]\n",
      "  [1 2 4]\n",
      "  [1 2 3]]]\n",
      "\n",
      "6\n",
      "3\n"
     ]
    }
   ],
   "source": [
    "var2 = np.array([[[1,2,3],[4,5,6],[3,5,6]],[[2,4,7],[1,2,4],[1,2,3]]])\n",
    "print(var2)\n",
    "print()\n",
    "print(var2[0,1,2])\n",
    "print(var2[-1,-1,2])"
   ]
  },
  {
   "cell_type": "markdown",
   "id": "82da6633",
   "metadata": {},
   "source": [
    "# slicing"
   ]
  },
  {
   "cell_type": "code",
   "execution_count": 103,
   "id": "4fb7e38c",
   "metadata": {},
   "outputs": [
    {
     "name": "stdout",
     "output_type": "stream",
     "text": [
      "[1 2 3 4]\n",
      "[1 2 3 4]\n"
     ]
    }
   ],
   "source": [
    "var1 = np.array([1,2,3,4])\n",
    "print(var1)\n",
    "print(var1[0:2])\n"
   ]
  },
  {
   "cell_type": "markdown",
   "id": "42b436ec",
   "metadata": {},
   "source": [
    "var2 = np.array([[1,2,3,3,45,6],[4,5,6,5,6,7]])\n",
    "print(var2)\n",
    "print(var2[0,1:4])\n",
    "print(var2[1,3:])"
   ]
  },
  {
   "cell_type": "code",
   "execution_count": 114,
   "id": "977941c6",
   "metadata": {},
   "outputs": [
    {
     "name": "stdout",
     "output_type": "stream",
     "text": [
      "[[[  1   2   3   3 453   6]\n",
      "  [  4   5   6   5   6   7]]\n",
      "\n",
      " [[  1   2   3   3  45   6]\n",
      "  [  4   5   6   5   6   7]]]\n",
      "[ 2  3  3 45  6]\n"
     ]
    }
   ],
   "source": [
    "var3 = np.array([[[1,2,3,3,453,6],[4,5,6,5,6,7]],[[1,2,3,3,45,6],[4,5,6,5,6,7]]])\n",
    "print(var3)\n",
    "print(var3[1,0,1:6])"
   ]
  },
  {
   "cell_type": "markdown",
   "id": "4bf65eb5",
   "metadata": {},
   "source": [
    "\n",
    "# itreating"
   ]
  },
  {
   "cell_type": "code",
   "execution_count": 4,
   "id": "713e5cb9",
   "metadata": {},
   "outputs": [
    {
     "name": "stdout",
     "output_type": "stream",
     "text": [
      "1\n",
      "2\n",
      "3\n",
      "7\n",
      "8\n",
      "5\n",
      "2\n",
      "4\n",
      "5\n"
     ]
    }
   ],
   "source": [
    "import numpy as np\n",
    "arr = np.array([1,2,3,7,8,5,2,4,5])\n",
    "for i in arr:\n",
    "    print(i)"
   ]
  },
  {
   "cell_type": "code",
   "execution_count": 8,
   "id": "ce3e1191",
   "metadata": {},
   "outputs": [
    {
     "name": "stdout",
     "output_type": "stream",
     "text": [
      "[1 2 3]\n",
      "[4 5 6]\n",
      "1\n",
      "2\n",
      "3\n",
      "4\n",
      "5\n",
      "6\n"
     ]
    }
   ],
   "source": [
    "arr1 = np.array([[1,2,3],[4,5,6]])\n",
    "for i in arr1:\n",
    "    print(i)\n",
    "    \n",
    "for x in arr1:\n",
    "    for y in x:\n",
    "        print(y)"
   ]
  },
  {
   "cell_type": "code",
   "execution_count": 11,
   "id": "9f9e0b8c",
   "metadata": {},
   "outputs": [
    {
     "name": "stdout",
     "output_type": "stream",
     "text": [
      "[[1 2 3]\n",
      " [4 5 6]]\n",
      "[[ 7  8  9]\n",
      " [10 11 12]]\n",
      "[1 2 3]\n",
      "[4 5 6]\n",
      "[7 8 9]\n",
      "[10 11 12]\n",
      "1\n",
      "2\n",
      "3\n",
      "4\n",
      "5\n",
      "6\n",
      "7\n",
      "8\n",
      "9\n",
      "10\n",
      "11\n",
      "12\n"
     ]
    }
   ],
   "source": [
    "arr2 = np.array([[[1, 2, 3], [4, 5, 6]], [[7, 8, 9], [10, 11, 12]]])\n",
    "for x in arr2:\n",
    "    print(x)\n",
    "    \n",
    "for x in arr2:\n",
    "    for y in x:\n",
    "        print(y)\n",
    "        \n",
    "for x in arr2:\n",
    "    for y in x:\n",
    "        for z in y:\n",
    "            print(z)"
   ]
  },
  {
   "cell_type": "code",
   "execution_count": 12,
   "id": "786ef9cf",
   "metadata": {},
   "outputs": [
    {
     "name": "stdout",
     "output_type": "stream",
     "text": [
      "1\n",
      "2\n",
      "3\n",
      "4\n",
      "5\n",
      "6\n",
      "7\n",
      "8\n"
     ]
    }
   ],
   "source": [
    "arr4 = np.array([[[1,2],[3,4]],[[5,6],[7,8]]])\n",
    "for x in np.nditer(arr4):\n",
    "    print(x)"
   ]
  },
  {
   "cell_type": "code",
   "execution_count": 18,
   "id": "b933fc32",
   "metadata": {},
   "outputs": [
    {
     "name": "stdout",
     "output_type": "stream",
     "text": [
      "[1 2 3 4]\n",
      "b'1'\n",
      "b'2'\n",
      "b'3'\n",
      "b'4'\n"
     ]
    }
   ],
   "source": [
    "arr5 = np.array([1,2,3,4])\n",
    "print(arr5)\n",
    "\n",
    "for i in np.nditer(arr5, flags = ['buffered'],op_dtypes=['S']):\n",
    "    print(i)"
   ]
  },
  {
   "cell_type": "code",
   "execution_count": 19,
   "id": "9764b4ac",
   "metadata": {},
   "outputs": [
    {
     "name": "stdout",
     "output_type": "stream",
     "text": [
      "1\n",
      "3\n",
      "5\n",
      "7\n"
     ]
    }
   ],
   "source": [
    "\n",
    "arr = np.array([[1, 2, 3, 4], [5, 6, 7, 8]])\n",
    "\n",
    "for x in np.nditer(arr[:, ::2]):\n",
    "  print(x)"
   ]
  },
  {
   "cell_type": "code",
   "execution_count": 23,
   "id": "da6c3a24",
   "metadata": {},
   "outputs": [
    {
     "name": "stdout",
     "output_type": "stream",
     "text": [
      "(0, 0) 1\n",
      "(0, 1) 2\n",
      "(0, 2) 3\n",
      "(1, 0) 5\n",
      "(1, 1) 8\n",
      "(1, 2) 9\n"
     ]
    }
   ],
   "source": [
    "\n",
    "arr = np.array([[1, 2, 3],[5,8,9]])\n",
    "\n",
    "for ix, x in np.ndenumerate(arr):\n",
    "  print(ix, x)"
   ]
  },
  {
   "cell_type": "markdown",
   "id": "b0c8abe2",
   "metadata": {},
   "source": [
    "# copy and view"
   ]
  },
  {
   "cell_type": "code",
   "execution_count": 24,
   "id": "4e6340e8",
   "metadata": {},
   "outputs": [
    {
     "name": "stdout",
     "output_type": "stream",
     "text": [
      "[ 1  2 32  4]\n",
      "[1 2 3 4]\n"
     ]
    }
   ],
   "source": [
    "arr1 = np.array([1,2,3,4])\n",
    "x = arr1.copy()\n",
    "arr1[2] = 32\n",
    "print(arr1)\n",
    "print(x)"
   ]
  },
  {
   "cell_type": "code",
   "execution_count": 25,
   "id": "58e6de83",
   "metadata": {},
   "outputs": [
    {
     "name": "stdout",
     "output_type": "stream",
     "text": [
      "[ 1  2  3 43  5]\n",
      "[ 1  2  3 43  5]\n"
     ]
    }
   ],
   "source": [
    "arr2 = np.array([1,2,3,4,5])\n",
    "z = arr2.view()\n",
    "arr2[3] = 43\n",
    "print(arr2)\n",
    "print(z)"
   ]
  },
  {
   "cell_type": "code",
   "execution_count": 26,
   "id": "aaa786a5",
   "metadata": {},
   "outputs": [
    {
     "name": "stdout",
     "output_type": "stream",
     "text": [
      "None\n",
      "[1 2 3 4 5]\n"
     ]
    }
   ],
   "source": [
    "arr = np.array([1, 2, 3, 4, 5])\n",
    "\n",
    "x = arr.copy()\n",
    "y = arr.view()\n",
    "\n",
    "print(x.base)\n",
    "print(y.base)"
   ]
  },
  {
   "cell_type": "markdown",
   "id": "d09c41a5",
   "metadata": {},
   "source": [
    "# join and slipt"
   ]
  },
  {
   "cell_type": "code",
   "execution_count": 29,
   "id": "7269e390",
   "metadata": {},
   "outputs": [
    {
     "name": "stdout",
     "output_type": "stream",
     "text": [
      "[1 2 3 4 1 6 7 8]\n"
     ]
    }
   ],
   "source": [
    "arr1 = np.array([1,2,3,4])\n",
    "arr2 = np.array([1,6,7,8])\n",
    "arr = np.concatenate((arr1,arr2))\n",
    "print(arr)"
   ]
  },
  {
   "cell_type": "code",
   "execution_count": 33,
   "id": "c6198204",
   "metadata": {},
   "outputs": [
    {
     "name": "stdout",
     "output_type": "stream",
     "text": [
      "[[1 2]\n",
      " [2 5]\n",
      " [1 2]\n",
      " [2 5]]\n",
      "\n",
      "[[1 2 1 2]\n",
      " [2 5 2 5]]\n",
      "\n",
      "[[1 2]\n",
      " [2 5]\n",
      " [1 2]\n",
      " [2 5]]\n"
     ]
    }
   ],
   "source": [
    "arr1 = np.array([[1,2],[2,5]])\n",
    "arr2 = np.array([[1,2],[2,5]])\n",
    "arr = np.concatenate((arr1, arr2))\n",
    "arr3 = np.concatenate((arr1, arr2),axis = 1)\n",
    "arr4 = np.concatenate((arr1, arr2),axis = 0)\n",
    "print(arr)\n",
    "print()\n",
    "print(arr3)\n",
    "print()\n",
    "print(arr4)"
   ]
  },
  {
   "cell_type": "code",
   "execution_count": 42,
   "id": "b03d6801",
   "metadata": {},
   "outputs": [
    {
     "name": "stdout",
     "output_type": "stream",
     "text": [
      "[[[1 2 3]\n",
      "  [3 2 5]]\n",
      "\n",
      " [[1 7 2]\n",
      "  [2 4 5]]]\n",
      "row----\n",
      "[[1 2 3 1 7 2]\n",
      " [3 2 5 2 4 5]]\n",
      "col----\n",
      "[[1 2 3]\n",
      " [3 2 5]\n",
      " [1 7 2]\n",
      " [2 4 5]]\n",
      "heigh/dep----\n",
      "[[[1 1]\n",
      "  [2 7]\n",
      "  [3 2]]\n",
      "\n",
      " [[3 2]\n",
      "  [2 4]\n",
      "  [5 5]]]\n",
      "stack----\n",
      "[[[1 2 3]\n",
      "  [3 2 5]]\n",
      "\n",
      " [[1 7 2]\n",
      "  [2 4 5]]]\n",
      "----\n",
      "[[[1 2 3]\n",
      "  [1 7 2]]\n",
      "\n",
      " [[3 2 5]\n",
      "  [2 4 5]]]\n",
      "----\n",
      "[[[1 2 3]\n",
      "  [3 2 5]]\n",
      "\n",
      " [[1 7 2]\n",
      "  [2 4 5]]]\n"
     ]
    }
   ],
   "source": [
    "arr1 = np.array([[1,2,3],[3,2,5]])\n",
    "arr2 = np.array([[1,7,2],[2,4,5]])\n",
    "arr3 = np.hstack((arr1, arr2))\n",
    "arr4 = np.vstack((arr1, arr2))\n",
    "arr5 = np.dstack((arr1, arr2))\n",
    "arr6 = np.stack((arr1, arr2))\n",
    "arr7 = np.stack((arr1, arr2),axis = 1)\n",
    "arr8 = np.stack((arr1, arr2),axis = 0)\n",
    "print(arr)\n",
    "print(\"row----\")\n",
    "print(arr3)\n",
    "print(\"col----\")\n",
    "print(arr4)\n",
    "print(\"heigh/dep----\")\n",
    "print(arr5)\n",
    "print(\"stack----\")\n",
    "print(arr6)\n",
    "print(\"----\")\n",
    "print(arr7)\n",
    "print(\"----\")\n",
    "print(arr8)"
   ]
  },
  {
   "cell_type": "code",
   "execution_count": 36,
   "id": "137920d5",
   "metadata": {},
   "outputs": [
    {
     "name": "stdout",
     "output_type": "stream",
     "text": [
      "[1 2 3 4 5 6]\n"
     ]
    }
   ],
   "source": [
    "arr1 = np.array([1, 2, 3])\n",
    "\n",
    "arr2 = np.array([4, 5, 6])\n",
    "\n",
    "arr = np.hstack((arr1, arr2))\n",
    "\n",
    "print(arr)\n"
   ]
  },
  {
   "cell_type": "code",
   "execution_count": 48,
   "id": "95e01d5a",
   "metadata": {},
   "outputs": [
    {
     "name": "stdout",
     "output_type": "stream",
     "text": [
      "[array([1, 2, 3]), array([4, 5, 6]), array([8, 7])]\n",
      "[1 2 3]\n",
      "[4 5 6]\n",
      "[8 7]\n"
     ]
    }
   ],
   "source": [
    "arr1 = np.array([1,2,3,4,5,6,8,7])\n",
    "var2 = np.array_split(arr1,3)\n",
    "print(var2)\n",
    "\n",
    "print(var2[0])\n",
    "print(var2[1])\n",
    "print(var2[2])"
   ]
  },
  {
   "cell_type": "code",
   "execution_count": 49,
   "id": "7b44372e",
   "metadata": {},
   "outputs": [
    {
     "name": "stdout",
     "output_type": "stream",
     "text": [
      "[array([[1, 2],\n",
      "       [3, 4]]), array([[5, 6],\n",
      "       [7, 8]]), array([[ 9, 10],\n",
      "       [11, 12]])]\n"
     ]
    }
   ],
   "source": [
    "\n",
    "arr = np.array([[1, 2], [3, 4], [5, 6], [7, 8], [9, 10], [11, 12]])\n",
    "\n",
    "newarr = np.array_split(arr, 3)\n",
    "\n",
    "print(newarr)"
   ]
  },
  {
   "cell_type": "markdown",
   "id": "49a68a63",
   "metadata": {},
   "source": [
    "# fuction"
   ]
  },
  {
   "cell_type": "code",
   "execution_count": 50,
   "id": "994a72aa",
   "metadata": {},
   "outputs": [],
   "source": [
    "import numpy as np"
   ]
  },
  {
   "cell_type": "code",
   "execution_count": 57,
   "id": "d9104222",
   "metadata": {},
   "outputs": [
    {
     "name": "stdout",
     "output_type": "stream",
     "text": [
      "[6 8 10 12]\n"
     ]
    }
   ],
   "source": [
    "def myadd(x,y):\n",
    "    return x+y\n",
    "\n",
    "myadd = np.frompyfunc(myadd,2,1)\n",
    "print(myadd([1,2,3,4],[5,6,7,8]))"
   ]
  },
  {
   "cell_type": "code",
   "execution_count": 58,
   "id": "b923d777",
   "metadata": {},
   "outputs": [
    {
     "name": "stdout",
     "output_type": "stream",
     "text": [
      "<class 'numpy.ufunc'>\n"
     ]
    }
   ],
   "source": [
    "print(type(np.add))"
   ]
  },
  {
   "cell_type": "code",
   "execution_count": 61,
   "id": "abc6d08a",
   "metadata": {},
   "outputs": [
    {
     "name": "stdout",
     "output_type": "stream",
     "text": [
      "<class 'function'>\n"
     ]
    }
   ],
   "source": [
    "print(type(np.concatenate))"
   ]
  },
  {
   "cell_type": "code",
   "execution_count": 62,
   "id": "08364513",
   "metadata": {},
   "outputs": [
    {
     "name": "stdout",
     "output_type": "stream",
     "text": [
      "adddd\n"
     ]
    }
   ],
   "source": [
    "if type(np.add) == np.ufunc:\n",
    "    print('adddd')\n",
    "else:\n",
    "    print(\"ad\")"
   ]
  },
  {
   "cell_type": "code",
   "execution_count": 64,
   "id": "f667a288",
   "metadata": {},
   "outputs": [
    {
     "name": "stdout",
     "output_type": "stream",
     "text": [
      "[6, 8, 10, 12]\n",
      "[ 6  8 10 12]\n"
     ]
    }
   ],
   "source": [
    "x = [1,2,3,4]\n",
    "y = [5,6,7,8]\n",
    "z = []\n",
    "\n",
    "for i,j in zip(x,y):\n",
    "        z.append(i+j)\n",
    "print(z)\n",
    "\n",
    "z = np.add(x,y)\n",
    "print(z)"
   ]
  },
  {
   "cell_type": "code",
   "execution_count": 69,
   "id": "bc7afcc2",
   "metadata": {},
   "outputs": [
    {
     "name": "stdout",
     "output_type": "stream",
     "text": [
      "[0.2        0.33333333 0.42857143 0.5       ]\n",
      "[ 5 12 21 32]\n",
      "[-4 -4 -4 -4]\n",
      "[1 2 3 4]\n",
      "(array([0, 0, 0, 0]), array([1, 2, 3, 4]))\n",
      "[1 2 3 4]\n",
      "[1 2 3 4]\n",
      "[ 6  8 10 12]\n"
     ]
    }
   ],
   "source": [
    "x = np.array([1,2,3,4])\n",
    "y = np.array([5,6,7,8])\n",
    "new = np.add(x,y)\n",
    "new1 = np.divide(x, y)\n",
    "new2 = np.multiply(x,y)\n",
    "new3 = np.subtract(x,y)\n",
    "new4 = np.mod(x,y)\n",
    "new5 = np.remainder(x,y)\n",
    "new6 = np.divmod(x,y)\n",
    "new7 = np.absolute(x,y)\n",
    "print(new1)\n",
    "print(new2)\n",
    "print(new3)\n",
    "print(new5)\n",
    "print(new6)\n",
    "print(new7)\n",
    "print(new4)\n",
    "print(new)"
   ]
  },
  {
   "cell_type": "code",
   "execution_count": 72,
   "id": "fdd27c28",
   "metadata": {},
   "outputs": [
    {
     "name": "stdout",
     "output_type": "stream",
     "text": [
      "[-3.  3.]\n",
      "[-3.  3.]\n",
      "3.17\n",
      "[-4.  3.]\n",
      "[-3.  4.]\n"
     ]
    }
   ],
   "source": [
    "arr1 = np.trunc([-3.1666, 3.6667])\n",
    "arr2 = np.fix([-3.1666, 3.6667])\n",
    "arr3= np.around(3.1666, 2)\n",
    "arr4 = np.floor([-3.1666, 3.6667])\n",
    "arr5 = np.ceil([-3.1666, 3.6667])\n",
    "\n",
    "print(arr1)\n",
    "print(arr2)\n",
    "print(arr3)\n",
    "print(arr4)\n",
    "print(arr5)"
   ]
  },
  {
   "cell_type": "code",
   "execution_count": 73,
   "id": "a90994bf",
   "metadata": {},
   "outputs": [
    {
     "name": "stdout",
     "output_type": "stream",
     "text": [
      "[0.         1.         1.5849625  2.         2.32192809 2.5849625\n",
      " 2.80735492 3.         3.169925  ]\n",
      "[0.         0.30103    0.47712125 0.60205999 0.69897    0.77815125\n",
      " 0.84509804 0.90308999 0.95424251]\n",
      "[0.         0.69314718 1.09861229 1.38629436 1.60943791 1.79175947\n",
      " 1.94591015 2.07944154 2.19722458]\n"
     ]
    },
    {
     "ename": "NameError",
     "evalue": "name 'log' is not defined",
     "output_type": "error",
     "traceback": [
      "\u001b[1;31m---------------------------------------------------------------------------\u001b[0m",
      "\u001b[1;31mNameError\u001b[0m                                 Traceback (most recent call last)",
      "Cell \u001b[1;32mIn[73], line 11\u001b[0m\n\u001b[0;32m      8\u001b[0m arr2 \u001b[38;5;241m=\u001b[39m np\u001b[38;5;241m.\u001b[39marange(\u001b[38;5;241m1\u001b[39m, \u001b[38;5;241m10\u001b[39m)\n\u001b[0;32m     10\u001b[0m \u001b[38;5;28mprint\u001b[39m(np\u001b[38;5;241m.\u001b[39mlog(arr2))\n\u001b[1;32m---> 11\u001b[0m nplog \u001b[38;5;241m=\u001b[39m np\u001b[38;5;241m.\u001b[39mfrompyfunc(log, \u001b[38;5;241m2\u001b[39m, \u001b[38;5;241m1\u001b[39m)\n\u001b[0;32m     13\u001b[0m \u001b[38;5;28mprint\u001b[39m(nplog(\u001b[38;5;241m100\u001b[39m, \u001b[38;5;241m15\u001b[39m))\n",
      "\u001b[1;31mNameError\u001b[0m: name 'log' is not defined"
     ]
    }
   ],
   "source": [
    "arr1 = np.arange(1, 10)\n",
    "\n",
    "print(np.log2(arr1))\n",
    "\n",
    "arr = np.arange(1, 10)\n",
    "\n",
    "print(np.log10(arr))\n",
    "arr2 = np.arange(1, 10)\n",
    "\n",
    "print(np.log(arr2))\n",
    "nplog = np.frompyfunc(log, 2, 1)\n",
    "\n",
    "print(nplog(100, 15))"
   ]
  },
  {
   "cell_type": "code",
   "execution_count": 74,
   "id": "9dbd360e",
   "metadata": {},
   "outputs": [
    {
     "name": "stdout",
     "output_type": "stream",
     "text": [
      "[2 4 6]\n"
     ]
    }
   ],
   "source": [
    "arr1 = np.array([1, 2, 3])\n",
    "arr2 = np.array([1, 2, 3])\n",
    "\n",
    "newarr = np.add(arr1, arr2)\n",
    "\n",
    "print(newarr)"
   ]
  },
  {
   "cell_type": "code",
   "execution_count": 75,
   "id": "f4dadf01",
   "metadata": {},
   "outputs": [
    {
     "name": "stdout",
     "output_type": "stream",
     "text": [
      "12\n"
     ]
    }
   ],
   "source": [
    "arr1 = np.array([1, 2, 3])\n",
    "arr2 = np.array([1, 2, 3])\n",
    "\n",
    "newarr = np.sum([arr1, arr2])\n",
    "\n",
    "print(newarr)"
   ]
  },
  {
   "cell_type": "code",
   "execution_count": 76,
   "id": "73ceacc2",
   "metadata": {},
   "outputs": [
    {
     "name": "stdout",
     "output_type": "stream",
     "text": [
      "[6 6]\n"
     ]
    }
   ],
   "source": [
    "arr1 = np.array([1, 2, 3])\n",
    "arr2 = np.array([1, 2, 3])\n",
    "\n",
    "newarr = np.sum([arr1, arr2], axis=1)\n",
    "\n",
    "print(newarr)"
   ]
  },
  {
   "cell_type": "code",
   "execution_count": 77,
   "id": "56f94747",
   "metadata": {},
   "outputs": [
    {
     "name": "stdout",
     "output_type": "stream",
     "text": [
      "[1 3 6]\n"
     ]
    }
   ],
   "source": [
    "arr = np.array([1, 2, 3])\n",
    "\n",
    "newarr = np.cumsum(arr)\n",
    "\n",
    "print(newarr)"
   ]
  },
  {
   "cell_type": "code",
   "execution_count": 78,
   "id": "40a0e3a6",
   "metadata": {},
   "outputs": [
    {
     "name": "stdout",
     "output_type": "stream",
     "text": [
      "24\n"
     ]
    }
   ],
   "source": [
    "arr = np.array([1, 2, 3, 4])\n",
    "\n",
    "x = np.prod(arr)\n",
    "\n",
    "print(x)"
   ]
  },
  {
   "cell_type": "code",
   "execution_count": 79,
   "id": "1a3c8549",
   "metadata": {},
   "outputs": [
    {
     "name": "stdout",
     "output_type": "stream",
     "text": [
      "[  24 1680]\n"
     ]
    }
   ],
   "source": [
    "arr1 = np.array([1, 2, 3, 4])\n",
    "arr2 = np.array([5, 6, 7, 8])\n",
    "\n",
    "newarr = np.prod([arr1, arr2], axis=1)\n",
    "\n",
    "print(newarr)"
   ]
  },
  {
   "cell_type": "code",
   "execution_count": 80,
   "id": "4b7d2e37",
   "metadata": {},
   "outputs": [
    {
     "name": "stdout",
     "output_type": "stream",
     "text": [
      "[   5   30  210 1680]\n"
     ]
    }
   ],
   "source": [
    "\n",
    "arr = np.array([5, 6, 7, 8])\n",
    "\n",
    "newarr = np.cumprod(arr)\n",
    "\n",
    "print(newarr)"
   ]
  },
  {
   "cell_type": "code",
   "execution_count": 82,
   "id": "d11cacd6",
   "metadata": {},
   "outputs": [
    {
     "name": "stdout",
     "output_type": "stream",
     "text": [
      "[  5  10 -20]\n",
      "[  5 -30]\n"
     ]
    }
   ],
   "source": [
    "arr = np.array([10, 15, 25, 5])\n",
    "\n",
    "newarr = np.diff(arr)\n",
    "\n",
    "print(newarr)\n",
    "arr1 = np.array([10, 15, 25, 5])\n",
    "\n",
    "newarr1 = np.diff(arr1, n=2)\n",
    "\n",
    "print(newarr1)"
   ]
  },
  {
   "cell_type": "code",
   "execution_count": 83,
   "id": "196e9353",
   "metadata": {},
   "outputs": [
    {
     "name": "stdout",
     "output_type": "stream",
     "text": [
      "12\n"
     ]
    }
   ],
   "source": [
    "num1 = 4\n",
    "num2 = 6\n",
    "\n",
    "x = np.lcm(num1, num2)\n",
    "\n",
    "print(x)"
   ]
  },
  {
   "cell_type": "code",
   "execution_count": 86,
   "id": "888f313b",
   "metadata": {},
   "outputs": [
    {
     "name": "stdout",
     "output_type": "stream",
     "text": [
      "18\n"
     ]
    }
   ],
   "source": [
    "arr = np.array([3, 6, 9])\n",
    "\n",
    "x = np.lcm.reduce(arr)\n",
    "\n",
    "print(x)"
   ]
  },
  {
   "cell_type": "code",
   "execution_count": 87,
   "id": "df5f8fae",
   "metadata": {},
   "outputs": [
    {
     "name": "stdout",
     "output_type": "stream",
     "text": [
      "2520\n"
     ]
    }
   ],
   "source": [
    "arr = np.arange(1, 11)\n",
    "\n",
    "x = np.lcm.reduce(arr)\n",
    "\n",
    "print(x)"
   ]
  },
  {
   "cell_type": "code",
   "execution_count": 89,
   "id": "fd01119d",
   "metadata": {},
   "outputs": [
    {
     "name": "stdout",
     "output_type": "stream",
     "text": [
      "3\n",
      "4\n"
     ]
    }
   ],
   "source": [
    "num1 = 6\n",
    "num2 = 9\n",
    "\n",
    "x = np.gcd(num1, num2)\n",
    "\n",
    "print(x)\n",
    "\n",
    "arr1 = np.array([20, 8, 32, 36, 16])\n",
    "\n",
    "x1 = np.gcd.reduce(arr1)\n",
    "\n",
    "print(x1)"
   ]
  },
  {
   "cell_type": "code",
   "execution_count": 91,
   "id": "c3bd1e97",
   "metadata": {},
   "outputs": [
    {
     "name": "stdout",
     "output_type": "stream",
     "text": [
      "1.0\n",
      "[1.         0.8660254  0.70710678 0.58778525]\n"
     ]
    }
   ],
   "source": [
    "x = np.sin(np.pi/2)\n",
    "\n",
    "print(x)\n",
    "\n",
    "arr = np.array([np.pi/2, np.pi/3, np.pi/4, np.pi/5])\n",
    "\n",
    "x1= np.sin(arr)\n",
    "\n",
    "print(x1)"
   ]
  },
  {
   "cell_type": "code",
   "execution_count": 93,
   "id": "dd6f3541",
   "metadata": {},
   "outputs": [
    {
     "name": "stdout",
     "output_type": "stream",
     "text": [
      "[1.57079633 3.14159265 4.71238898 6.28318531]\n"
     ]
    }
   ],
   "source": [
    "arr = np.array([90, 180, 270, 360])\n",
    "\n",
    "x = np.deg2rad(arr)\n",
    "\n",
    "print(x)"
   ]
  },
  {
   "cell_type": "code",
   "execution_count": 94,
   "id": "e7fd0a70",
   "metadata": {},
   "outputs": [
    {
     "name": "stdout",
     "output_type": "stream",
     "text": [
      "[ 90. 180. 270. 360.]\n"
     ]
    }
   ],
   "source": [
    "arr = np.array([np.pi/2, np.pi, 1.5*np.pi, 2*np.pi])\n",
    "\n",
    "\n",
    "x = np.rad2deg(arr)\n",
    "\n",
    "print(x)"
   ]
  },
  {
   "cell_type": "code",
   "execution_count": 95,
   "id": "67b66b03",
   "metadata": {},
   "outputs": [
    {
     "name": "stdout",
     "output_type": "stream",
     "text": [
      "1.5707963267948966\n"
     ]
    }
   ],
   "source": [
    "x = np.arcsin(1.0)\n",
    "\n",
    "print(x)"
   ]
  },
  {
   "cell_type": "code",
   "execution_count": 96,
   "id": "63b6a017",
   "metadata": {},
   "outputs": [
    {
     "name": "stdout",
     "output_type": "stream",
     "text": [
      "[ 1.57079633 -1.57079633  0.10016742]\n"
     ]
    }
   ],
   "source": [
    "arr = np.array([1, -1, 0.1])\n",
    "\n",
    "x = np.arcsin(arr)\n",
    "\n",
    "print(x)"
   ]
  },
  {
   "cell_type": "code",
   "execution_count": 97,
   "id": "5788fdf7",
   "metadata": {},
   "outputs": [
    {
     "name": "stdout",
     "output_type": "stream",
     "text": [
      "5.0\n"
     ]
    }
   ],
   "source": [
    "base = 3\n",
    "perp = 4\n",
    "\n",
    "x = np.hypot(base, perp)\n",
    "\n",
    "print(x)"
   ]
  },
  {
   "cell_type": "code",
   "execution_count": 101,
   "id": "a78f93d1",
   "metadata": {},
   "outputs": [
    {
     "name": "stdout",
     "output_type": "stream",
     "text": [
      "[1 2 3 4 5 6 7]\n",
      "[1 2 3 4 5 6]\n",
      "[3 4]\n",
      "[1 2]\n"
     ]
    }
   ],
   "source": [
    "\n",
    "arr = np.array([1, 1, 1, 2, 3, 4, 5, 5, 6, 7])\n",
    "\n",
    "x = np.unique(arr)\n",
    "\n",
    "print(x)\n",
    "\n",
    "arr1 = np.array([1, 2, 3, 4])\n",
    "arr2 = np.array([3, 4, 5, 6])\n",
    "\n",
    "newarr = np.union1d(arr1, arr2)\n",
    "\n",
    "print(newarr)\n",
    "\n",
    "arr11 = np.array([1, 2, 3, 4])\n",
    "arr21 = np.array([3, 4, 5, 6])\n",
    "\n",
    "newarr1 = np.intersect1d(arr11, arr21, assume_unique=True)\n",
    "\n",
    "print(newarr1)\n",
    "\n",
    "set1 = np.array([1, 2, 3, 4])\n",
    "set2 = np.array([3, 4, 5, 6])\n",
    "\n",
    "newarr1 = np.setdiff1d(set1, set2, assume_unique=True)\n",
    "\n",
    "print(newarr1)"
   ]
  },
  {
   "cell_type": "code",
   "execution_count": 102,
   "id": "930a3a15",
   "metadata": {},
   "outputs": [
    {
     "name": "stdout",
     "output_type": "stream",
     "text": [
      "[1 2 5 6]\n"
     ]
    }
   ],
   "source": [
    "set1 = np.array([1, 2, 3, 4])\n",
    "set2 = np.array([3, 4, 5, 6])\n",
    "\n",
    "newarr = np.setxor1d(set1, set2, assume_unique=True)\n",
    "\n",
    "print(newarr)"
   ]
  },
  {
   "cell_type": "code",
   "execution_count": null,
   "id": "3bd07f00",
   "metadata": {},
   "outputs": [],
   "source": []
  },
  {
   "cell_type": "code",
   "execution_count": null,
   "id": "29462acc",
   "metadata": {},
   "outputs": [],
   "source": []
  },
  {
   "cell_type": "code",
   "execution_count": 159,
   "id": "ef7b385e",
   "metadata": {},
   "outputs": [
    {
     "name": "stdout",
     "output_type": "stream",
     "text": [
      "(array([ 1,  3,  8, 10], dtype=int64),)\n",
      "4\n"
     ]
    }
   ],
   "source": [
    "arr = np.array([1,2,3,4,5,5,3,3,4,1,2])\n",
    "\n",
    "x = np.where((arr%2) == 0)\n",
    "\n",
    "x2 = np.searchsorted(arr, 5)\n",
    "\n",
    "print(x)\n",
    "print(x2)"
   ]
  },
  {
   "cell_type": "code",
   "execution_count": 109,
   "id": "8d50e831",
   "metadata": {},
   "outputs": [
    {
     "name": "stdout",
     "output_type": "stream",
     "text": [
      "6\n"
     ]
    }
   ],
   "source": [
    "arr = np.array([1, 2, 3, 4, 5, 6, 7, 8])\n",
    "\n",
    "x = np.where(arr%2 == 1)\n",
    "\n",
    "x = np.searchsorted(arr, 7)\n",
    "\n",
    "print(x)\n"
   ]
  },
  {
   "cell_type": "code",
   "execution_count": 160,
   "id": "fc09b6b1",
   "metadata": {
    "scrolled": true
   },
   "outputs": [
    {
     "name": "stdout",
     "output_type": "stream",
     "text": [
      "7\n",
      "6\n",
      "[3 4 4]\n"
     ]
    }
   ],
   "source": [
    "arr = np.array([1,1,1,3,6, 7, 8, 9])\n",
    "\n",
    "x1 = np.searchsorted(arr,8,side= 'right')\n",
    "x = np.searchsorted(arr,8,side= 'left')\n",
    "x2 = np.searchsorted(arr,[2,4,5])\n",
    "print(x1)\n",
    "print(x)\n",
    "print(x2)"
   ]
  },
  {
   "cell_type": "code",
   "execution_count": 135,
   "id": "3a7e0bd4",
   "metadata": {},
   "outputs": [
    {
     "name": "stdout",
     "output_type": "stream",
     "text": [
      "[ 1  2  3  4  5  6  7  8  9 10 11]\n"
     ]
    }
   ],
   "source": [
    "arrr = np.array([1,3,4,2,5,7,8,6,9,11,10])\n",
    "print(np.sort(arrr))"
   ]
  },
  {
   "cell_type": "code",
   "execution_count": 136,
   "id": "d2eb3a2a",
   "metadata": {},
   "outputs": [
    {
     "name": "stdout",
     "output_type": "stream",
     "text": [
      "['apple' 'banana' 'cherry']\n"
     ]
    }
   ],
   "source": [
    "arr = np.array(['banana', 'cherry', 'apple'])\n",
    "\n",
    "print(np.sort(arr))"
   ]
  },
  {
   "cell_type": "code",
   "execution_count": 137,
   "id": "ea88f374",
   "metadata": {},
   "outputs": [
    {
     "name": "stdout",
     "output_type": "stream",
     "text": [
      "[False  True  True]\n"
     ]
    }
   ],
   "source": [
    "arr = np.array([True, False, True])\n",
    "\n",
    "print(np.sort(arr))"
   ]
  },
  {
   "cell_type": "code",
   "execution_count": 140,
   "id": "376a6786",
   "metadata": {},
   "outputs": [
    {
     "name": "stdout",
     "output_type": "stream",
     "text": [
      "[[2 4 5]\n",
      " [1 3 6]]\n"
     ]
    }
   ],
   "source": [
    "arr = np.array([[4,2,5],[3,1,6]])\n",
    "print(np.sort(arr))"
   ]
  },
  {
   "cell_type": "code",
   "execution_count": 141,
   "id": "e4dee368",
   "metadata": {},
   "outputs": [
    {
     "name": "stdout",
     "output_type": "stream",
     "text": [
      "[41 43]\n"
     ]
    }
   ],
   "source": [
    "arr = np.array([41, 42, 43, 44])\n",
    "\n",
    "x = [True, False, True, False]\n",
    "\n",
    "newarr = arr[x]\n",
    "\n",
    "print(newarr)"
   ]
  },
  {
   "cell_type": "code",
   "execution_count": 145,
   "id": "7152371b",
   "metadata": {},
   "outputs": [
    {
     "name": "stdout",
     "output_type": "stream",
     "text": [
      "[43 44 45]\n",
      "[False, False, True, True, True, False, False]\n"
     ]
    }
   ],
   "source": [
    "arr = np.array([41,42,43,44,45,16,40])\n",
    "fli_arr = []\n",
    "\n",
    "for elements in arr:\n",
    "    if elements > 42:\n",
    "        fli_arr.append(True)\n",
    "    else:\n",
    "        fli_arr.append(False)\n",
    "     \n",
    "newwwr= arr[fli_arr]\n",
    "print(newwwr)\n",
    "print(fli_arr)"
   ]
  },
  {
   "cell_type": "code",
   "execution_count": 150,
   "id": "85a842d5",
   "metadata": {},
   "outputs": [
    {
     "name": "stdout",
     "output_type": "stream",
     "text": [
      "[ 1  2  3  4  5  6  7 84 89  9 10]\n",
      "1\n",
      "2\n",
      "3\n",
      "4\n",
      "5\n",
      "6\n",
      "7\n",
      "84\n",
      "89\n",
      "9\n",
      "10\n",
      "[False, True, False, True, False, True, False, True, False, False, True]\n",
      "[ 2  4  6 84 10]\n"
     ]
    }
   ],
   "source": [
    "arr = np.array([1,2,3,4,5,6,7,84,89,9,10])\n",
    "print(arr)\n",
    "\n",
    "filter_array = []\n",
    "\n",
    "for eleee in arr:\n",
    "    print(eleee)\n",
    "    if eleee % 2 == 0:\n",
    "          filter_array.append(True)\n",
    "    else:\n",
    "        filter_array.append(False)\n",
    "        \n",
    "newww = arr[filter_array]\n",
    "print(filter_array)\n",
    "print(newww)"
   ]
  },
  {
   "cell_type": "code",
   "execution_count": 154,
   "id": "37552dea",
   "metadata": {},
   "outputs": [
    {
     "name": "stdout",
     "output_type": "stream",
     "text": [
      "[ 44  54 544  45  46  56 671  45 223  45]\n"
     ]
    }
   ],
   "source": [
    "arr = np.array([[41,42,43,44,54,544,45,46,41],[3,22,3,43,56,671,45,223,45]])\n",
    "\n",
    "fliter_array = arr > 43\n",
    "\n",
    "neww = arr[fliter_array]\n",
    "\n",
    "print(neww)"
   ]
  },
  {
   "cell_type": "code",
   "execution_count": 155,
   "id": "4607c9c3",
   "metadata": {},
   "outputs": [
    {
     "name": "stdout",
     "output_type": "stream",
     "text": [
      "[2 4 6]\n"
     ]
    }
   ],
   "source": [
    "arr = np.array([1, 2, 3, 4, 5, 6, 7])\n",
    "\n",
    "fl = arr % 2 == 0\n",
    "\n",
    "ne = arr[fl]\n",
    "print(ne)"
   ]
  },
  {
   "cell_type": "markdown",
   "id": "9ea57477",
   "metadata": {},
   "source": [
    "# matrix"
   ]
  },
  {
   "cell_type": "code",
   "execution_count": 172,
   "id": "f9576852",
   "metadata": {},
   "outputs": [
    {
     "name": "stdout",
     "output_type": "stream",
     "text": [
      "[[ 1  4]\n",
      " [20 36]]\n",
      "[[1 2]\n",
      " [5 6]]\n",
      "<class 'numpy.ndarray'>\n",
      "[[ 9 14]\n",
      " [29 46]]\n"
     ]
    }
   ],
   "source": [
    "var = np.array([[1,2],[5,6]])\n",
    "var2 = np.array([[1,2],[4,6]])\n",
    "print(var*var2)\n",
    "print(var)\n",
    "print(type(var))\n",
    "print(var.dot(var2))"
   ]
  },
  {
   "cell_type": "code",
   "execution_count": 170,
   "id": "74a0e382",
   "metadata": {},
   "outputs": [
    {
     "name": "stdout",
     "output_type": "stream",
     "text": [
      "[[ 9 14]\n",
      " [29 46]]\n",
      "[[1 2]\n",
      " [5 6]]\n",
      "<class 'numpy.matrix'>\n",
      "[[ 9 14]\n",
      " [29 46]]\n"
     ]
    }
   ],
   "source": [
    "var1 = np.matrix([[1,2],[5,6]])\n",
    "var3 = np.matrix([[1,2],[4,6]])\n",
    "print(var1*var3)\n",
    "print(var1)\n",
    "print(type(var1))\n",
    "print(var1.dot(var3))"
   ]
  },
  {
   "cell_type": "markdown",
   "id": "b2a9fef9",
   "metadata": {},
   "source": [
    "# transpose\n",
    "swapaxes\n",
    "inverse\n",
    "power\n",
    "determinate"
   ]
  },
  {
   "cell_type": "code",
   "execution_count": 175,
   "id": "f93f7323",
   "metadata": {},
   "outputs": [
    {
     "name": "stdout",
     "output_type": "stream",
     "text": [
      "[[1 2 3]\n",
      " [4 5 6]]\n",
      "\n",
      "[[1 4]\n",
      " [2 5]\n",
      " [3 6]]\n",
      "\n",
      "[[1 4]\n",
      " [2 5]\n",
      " [3 6]]\n"
     ]
    }
   ],
   "source": [
    "var = np.array([[1,2,3],[4,5,6]])\n",
    "print(var)\n",
    "print()\n",
    "print(np.transpose(var))\n",
    "print()\n",
    "print(var.T)"
   ]
  },
  {
   "cell_type": "code",
   "execution_count": 181,
   "id": "6dcbf9b3",
   "metadata": {},
   "outputs": [
    {
     "name": "stdout",
     "output_type": "stream",
     "text": [
      "[[1 2 3]\n",
      " [4 5 6]]\n",
      "[[1 4]\n",
      " [2 5]\n",
      " [3 6]]\n",
      "[[1 4]\n",
      " [2 5]\n",
      " [3 6]]\n"
     ]
    }
   ],
   "source": [
    "var1 = np.array([[1,2,3],[4,5,6]])\n",
    "print(var1)\n",
    "print(np.swapaxes(var1,1,0))\n",
    "print(np.swapaxes(var1,0,1))"
   ]
  },
  {
   "cell_type": "code",
   "execution_count": 182,
   "id": "38ccf85c",
   "metadata": {},
   "outputs": [
    {
     "name": "stdout",
     "output_type": "stream",
     "text": [
      "[[1 2]\n",
      " [3 4]]\n",
      "\n",
      "[[-2.   1. ]\n",
      " [ 1.5 -0.5]]\n"
     ]
    }
   ],
   "source": [
    "var2 = np.array([[1,2],[3,4]])\n",
    "\n",
    "print(var2)\n",
    "print()\n",
    "print(np.linalg.inv(var2))"
   ]
  },
  {
   "cell_type": "code",
   "execution_count": 187,
   "id": "ac90f69f",
   "metadata": {},
   "outputs": [
    {
     "name": "stdout",
     "output_type": "stream",
     "text": [
      "[[1 2]\n",
      " [3 4]]\n",
      "\n",
      "[[ 7 10]\n",
      " [15 22]]\n",
      "\n",
      "[[1 0]\n",
      " [0 1]]\n",
      "\n",
      "[[ 5.5  -2.5 ]\n",
      " [-3.75  1.75]]\n",
      "\n",
      "-2.0000000000000004\n"
     ]
    }
   ],
   "source": [
    "var3 = np.array([[1,2],[3,4]])\n",
    "print(var3)\n",
    "print()\n",
    "print(np.linalg.matrix_power(var3,2))\n",
    "print()\n",
    "print(np.linalg.matrix_power(var3,0))\n",
    "print()\n",
    "print(np.linalg.matrix_power(var3,-2))\n",
    "print()\n",
    "print(np.linalg.det(var3))"
   ]
  },
  {
   "cell_type": "code",
   "execution_count": 215,
   "id": "e8d277ae",
   "metadata": {},
   "outputs": [
    {
     "name": "stdout",
     "output_type": "stream",
     "text": [
      "Requirement already satisfied: seaborn in c:\\users\\sanjith shalu\\anaconda3\\lib\\site-packages (0.12.2)\n",
      "Requirement already satisfied: numpy!=1.24.0,>=1.17 in c:\\users\\sanjith shalu\\anaconda3\\lib\\site-packages (from seaborn) (1.24.3)\n",
      "Requirement already satisfied: pandas>=0.25 in c:\\users\\sanjith shalu\\anaconda3\\lib\\site-packages (from seaborn) (2.0.3)\n",
      "Requirement already satisfied: matplotlib!=3.6.1,>=3.1 in c:\\users\\sanjith shalu\\anaconda3\\lib\\site-packages (from seaborn) (3.7.2)\n",
      "Requirement already satisfied: contourpy>=1.0.1 in c:\\users\\sanjith shalu\\anaconda3\\lib\\site-packages (from matplotlib!=3.6.1,>=3.1->seaborn) (1.0.5)\n",
      "Requirement already satisfied: cycler>=0.10 in c:\\users\\sanjith shalu\\anaconda3\\lib\\site-packages (from matplotlib!=3.6.1,>=3.1->seaborn) (0.11.0)\n",
      "Requirement already satisfied: fonttools>=4.22.0 in c:\\users\\sanjith shalu\\anaconda3\\lib\\site-packages (from matplotlib!=3.6.1,>=3.1->seaborn) (4.25.0)\n",
      "Requirement already satisfied: kiwisolver>=1.0.1 in c:\\users\\sanjith shalu\\anaconda3\\lib\\site-packages (from matplotlib!=3.6.1,>=3.1->seaborn) (1.4.4)\n",
      "Requirement already satisfied: packaging>=20.0 in c:\\users\\sanjith shalu\\anaconda3\\lib\\site-packages (from matplotlib!=3.6.1,>=3.1->seaborn) (23.1)\n",
      "Requirement already satisfied: pillow>=6.2.0 in c:\\users\\sanjith shalu\\anaconda3\\lib\\site-packages (from matplotlib!=3.6.1,>=3.1->seaborn) (9.4.0)\n",
      "Requirement already satisfied: pyparsing<3.1,>=2.3.1 in c:\\users\\sanjith shalu\\anaconda3\\lib\\site-packages (from matplotlib!=3.6.1,>=3.1->seaborn) (3.0.9)\n",
      "Requirement already satisfied: python-dateutil>=2.7 in c:\\users\\sanjith shalu\\anaconda3\\lib\\site-packages (from matplotlib!=3.6.1,>=3.1->seaborn) (2.8.2)\n",
      "Requirement already satisfied: pytz>=2020.1 in c:\\users\\sanjith shalu\\anaconda3\\lib\\site-packages (from pandas>=0.25->seaborn) (2023.3.post1)\n",
      "Requirement already satisfied: tzdata>=2022.1 in c:\\users\\sanjith shalu\\anaconda3\\lib\\site-packages (from pandas>=0.25->seaborn) (2023.3)\n",
      "Requirement already satisfied: six>=1.5 in c:\\users\\sanjith shalu\\anaconda3\\lib\\site-packages (from python-dateutil>=2.7->matplotlib!=3.6.1,>=3.1->seaborn) (1.16.0)\n",
      "Note: you may need to restart the kernel to use updated packages.\n"
     ]
    }
   ],
   "source": [
    "pip install seaborn"
   ]
  },
  {
   "cell_type": "code",
   "execution_count": 192,
   "id": "4f56677f",
   "metadata": {},
   "outputs": [],
   "source": [
    "import matplotlib.pyplot as plt\n",
    "import seaborn as sns"
   ]
  },
  {
   "cell_type": "code",
   "execution_count": 196,
   "id": "4d873b4c",
   "metadata": {},
   "outputs": [
    {
     "name": "stderr",
     "output_type": "stream",
     "text": [
      "C:\\Users\\sanjith shalu\\AppData\\Local\\Temp\\ipykernel_36360\\3848291491.py:1: UserWarning: \n",
      "\n",
      "`distplot` is a deprecated function and will be removed in seaborn v0.14.0.\n",
      "\n",
      "Please adapt your code to use either `displot` (a figure-level function with\n",
      "similar flexibility) or `histplot` (an axes-level function for histograms).\n",
      "\n",
      "For a guide to updating your code to use the new functions, please see\n",
      "https://gist.github.com/mwaskom/de44147ed2974457ad6372750bbe5751\n",
      "\n",
      "  sns.distplot([0,1,2,3,4,5,6])\n"
     ]
    },
    {
     "data": {
      "text/plain": [
       "<function matplotlib.pyplot.show(close=None, block=None)>"
      ]
     },
     "execution_count": 196,
     "metadata": {},
     "output_type": "execute_result"
    },
    {
     "data": {
      "image/png": "[encoded data removed]",
      "text/plain": [
       "<Figure size 640x480 with 1 Axes>"
      ]
     },
     "metadata": {},
     "output_type": "display_data"
    }
   ],
   "source": [
    "sns.distplot([0,1,2,3,4,5,6])\n",
    "plt.show"
   ]
  },
  {
   "cell_type": "code",
   "execution_count": 200,
   "id": "53d6ae3c",
   "metadata": {},
   "outputs": [
    {
     "name": "stderr",
     "output_type": "stream",
     "text": [
      "C:\\Users\\sanjith shalu\\AppData\\Local\\Temp\\ipykernel_36360\\1973592607.py:1: UserWarning: \n",
      "\n",
      "`distplot` is a deprecated function and will be removed in seaborn v0.14.0.\n",
      "\n",
      "Please adapt your code to use either `displot` (a figure-level function with\n",
      "similar flexibility) or `kdeplot` (an axes-level function for kernel density plots).\n",
      "\n",
      "For a guide to updating your code to use the new functions, please see\n",
      "https://gist.github.com/mwaskom/de44147ed2974457ad6372750bbe5751\n",
      "\n",
      "  sns.distplot([0,1,2,3,4,5],hist = False)\n"
     ]
    },
    {
     "data": {
      "image/png": "[encoded data removed]",
      "text/plain": [
       "<Figure size 640x480 with 1 Axes>"
      ]
     },
     "metadata": {},
     "output_type": "display_data"
    }
   ],
   "source": [
    "sns.distplot([0,1,2,3,4,5],hist = False)\n",
    "plt.show()"
   ]
  },
  {
   "cell_type": "code",
   "execution_count": 210,
   "id": "9259a9bb",
   "metadata": {},
   "outputs": [
    {
     "name": "stdout",
     "output_type": "stream",
     "text": [
      "[[-0.52488377 -0.8752007  -1.6947344 ]\n",
      " [ 0.56455454  1.45163523 -0.35854761]]\n",
      "[[ 0.95777463  0.84333266  1.42240932]\n",
      " [-0.60745622 -0.90658424 -1.07214066]\n",
      " [-0.43612973 -0.97838565 -0.43030381]]\n"
     ]
    }
   ],
   "source": [
    "import numpy as np\n",
    "from numpy import random\n",
    "import matplotlib.pyplot as plt\n",
    "import seaborn as sns\n",
    "x = random.normal(size=(2,3))\n",
    "print(x)\n",
    "x1 = random.normal(size=(3,3))\n",
    "print(x1)"
   ]
  },
  {
   "cell_type": "code",
   "execution_count": 214,
   "id": "d926c4d2",
   "metadata": {},
   "outputs": [
    {
     "name": "stdout",
     "output_type": "stream",
     "text": [
      "[[-0.52488377 -0.8752007  -1.6947344 ]\n",
      " [ 0.56455454  1.45163523 -0.35854761]]\n",
      "\n"
     ]
    },
    {
     "name": "stderr",
     "output_type": "stream",
     "text": [
      "C:\\Users\\sanjith shalu\\AppData\\Local\\Temp\\ipykernel_36360\\2811541828.py:4: UserWarning: \n",
      "\n",
      "`distplot` is a deprecated function and will be removed in seaborn v0.14.0.\n",
      "\n",
      "Please adapt your code to use either `displot` (a figure-level function with\n",
      "similar flexibility) or `kdeplot` (an axes-level function for kernel density plots).\n",
      "\n",
      "For a guide to updating your code to use the new functions, please see\n",
      "https://gist.github.com/mwaskom/de44147ed2974457ad6372750bbe5751\n",
      "\n",
      "  sns.distplot(random.normal(size=100),hist = False)\n"
     ]
    },
    {
     "data": {
      "image/png": "[encoded data removed]",
      "text/plain": [
       "<Figure size 640x480 with 1 Axes>"
      ]
     },
     "metadata": {},
     "output_type": "display_data"
    }
   ],
   "source": [
    "x2 = random.normal(loc=1, scale= 2,size=(2,3))\n",
    "print(x)\n",
    "print()\n",
    "sns.distplot(random.normal(size=100),hist = False)\n",
    "plt.show()"
   ]
  },
  {
   "cell_type": "markdown",
   "id": "5ca9e067",
   "metadata": {},
   "source": [
    "# binomial"
   ]
  },
  {
   "cell_type": "code",
   "execution_count": 222,
   "id": "0ec5b45c",
   "metadata": {},
   "outputs": [
    {
     "name": "stdout",
     "output_type": "stream",
     "text": [
      "[5 3 6 2 8 7 7 4 6 3 7 8 6 8]\n"
     ]
    }
   ],
   "source": [
    "x = random.binomial(n=12, p=0.5,size=(14))\n",
    "print(x)"
   ]
  },
  {
   "cell_type": "code",
   "execution_count": 226,
   "id": "c8a8313e",
   "metadata": {},
   "outputs": [
    {
     "name": "stderr",
     "output_type": "stream",
     "text": [
      "C:\\Users\\sanjith shalu\\AppData\\Local\\Temp\\ipykernel_36360\\1020446490.py:1: UserWarning: \n",
      "\n",
      "`distplot` is a deprecated function and will be removed in seaborn v0.14.0.\n",
      "\n",
      "Please adapt your code to use either `displot` (a figure-level function with\n",
      "similar flexibility) or `histplot` (an axes-level function for histograms).\n",
      "\n",
      "For a guide to updating your code to use the new functions, please see\n",
      "https://gist.github.com/mwaskom/de44147ed2974457ad6372750bbe5751\n",
      "\n",
      "  sns.distplot(random.binomial(n=12,p=0.5,size=(1000)))\n"
     ]
    },
    {
     "data": {
      "image/png": "[encoded data removed]",
      "text/plain": [
       "<Figure size 640x480 with 1 Axes>"
      ]
     },
     "metadata": {},
     "output_type": "display_data"
    }
   ],
   "source": [
    "sns.distplot(random.binomial(n=12,p=0.5,size=(1000)))\n",
    "plt.show()"
   ]
  },
  {
   "cell_type": "markdown",
   "id": "8315ce94",
   "metadata": {},
   "source": [
    "The main difference is that normal distribution is continous whereas binomial is discrete, but if there are enough data points it will be quite similar to normal distribution with certain loc and scale."
   ]
  },
  {
   "cell_type": "code",
   "execution_count": 238,
   "id": "648cb7c5",
   "metadata": {},
   "outputs": [
    {
     "name": "stderr",
     "output_type": "stream",
     "text": [
      "C:\\Users\\sanjith shalu\\AppData\\Local\\Temp\\ipykernel_36360\\1342852981.py:5: UserWarning: \n",
      "\n",
      "`distplot` is a deprecated function and will be removed in seaborn v0.14.0.\n",
      "\n",
      "Please adapt your code to use either `displot` (a figure-level function with\n",
      "similar flexibility) or `kdeplot` (an axes-level function for kernel density plots).\n",
      "\n",
      "For a guide to updating your code to use the new functions, please see\n",
      "https://gist.github.com/mwaskom/de44147ed2974457ad6372750bbe5751\n",
      "\n",
      "  sns.distplot(random.normal(loc=50, scale=5, size=1000), hist=False, label='normal')\n",
      "C:\\Users\\sanjith shalu\\AppData\\Local\\Temp\\ipykernel_36360\\1342852981.py:6: UserWarning: \n",
      "\n",
      "`distplot` is a deprecated function and will be removed in seaborn v0.14.0.\n",
      "\n",
      "Please adapt your code to use either `displot` (a figure-level function with\n",
      "similar flexibility) or `kdeplot` (an axes-level function for kernel density plots).\n",
      "\n",
      "For a guide to updating your code to use the new functions, please see\n",
      "https://gist.github.com/mwaskom/de44147ed2974457ad6372750bbe5751\n",
      "\n",
      "  sns.distplot(random.binomial(n=100, p=0.5, size=1000), hist=False, label='binomial')\n"
     ]
    },
    {
     "data": {
      "image/png": "[encoded data removed]",
      "text/plain": [
       "<Figure size 640x480 with 1 Axes>"
      ]
     },
     "metadata": {},
     "output_type": "display_data"
    }
   ],
   "source": [
    "from numpy import random\n",
    "import matplotlib.pyplot as plt\n",
    "import seaborn as sns\n",
    "# sns.distplot(random.normal(loc=50, scale=5, size(1000), hist=False, label='noraml')\n",
    "sns.distplot(random.normal(loc=50, scale=5, size=1000), hist=False, label='normal')\n",
    "sns.distplot(random.binomial(n=100, p=0.5, size=1000), hist=False, label='binomial')\n",
    "plt.show()"
   ]
  },
  {
   "cell_type": "markdown",
   "id": "7e207d16",
   "metadata": {},
   "source": [
    "# poisson distribution"
   ]
  },
  {
   "cell_type": "markdown",
   "id": "a58288c7",
   "metadata": {},
   "source": [
    "It estimates how many times an event can happen in a specified time."
   ]
  },
  {
   "cell_type": "code",
   "execution_count": 239,
   "id": "b11b95b2",
   "metadata": {},
   "outputs": [
    {
     "name": "stdout",
     "output_type": "stream",
     "text": [
      "[2 1 1 0 2 3 2 2 2 2]\n"
     ]
    }
   ],
   "source": [
    "x = random.poisson(lam=2,size=10)\n",
    "print(x)"
   ]
  },
  {
   "cell_type": "code",
   "execution_count": 245,
   "id": "debedefa",
   "metadata": {},
   "outputs": [
    {
     "name": "stderr",
     "output_type": "stream",
     "text": [
      "C:\\Users\\sanjith shalu\\AppData\\Local\\Temp\\ipykernel_36360\\1290901572.py:1: UserWarning: \n",
      "\n",
      "`distplot` is a deprecated function and will be removed in seaborn v0.14.0.\n",
      "\n",
      "Please adapt your code to use either `displot` (a figure-level function with\n",
      "similar flexibility) or `kdeplot` (an axes-level function for kernel density plots).\n",
      "\n",
      "For a guide to updating your code to use the new functions, please see\n",
      "https://gist.github.com/mwaskom/de44147ed2974457ad6372750bbe5751\n",
      "\n",
      "  sns.distplot(random.poisson(lam=2,size=1000),hist=False,label='poissson')\n",
      "C:\\Users\\sanjith shalu\\AppData\\Local\\Temp\\ipykernel_36360\\1290901572.py:2: UserWarning: \n",
      "\n",
      "`distplot` is a deprecated function and will be removed in seaborn v0.14.0.\n",
      "\n",
      "Please adapt your code to use either `displot` (a figure-level function with\n",
      "similar flexibility) or `histplot` (an axes-level function for histograms).\n",
      "\n",
      "For a guide to updating your code to use the new functions, please see\n",
      "https://gist.github.com/mwaskom/de44147ed2974457ad6372750bbe5751\n",
      "\n",
      "  sns.distplot(random.poisson(lam=2, size=1000), kde=False)\n"
     ]
    },
    {
     "data": {
      "text/plain": [
       "<function matplotlib.pyplot.show(close=None, block=None)>"
      ]
     },
     "execution_count": 245,
     "metadata": {},
     "output_type": "execute_result"
    },
    {
     "data": {
      "image/png": "[encoded data removed]",
      "text/plain": [
       "<Figure size 640x480 with 1 Axes>"
      ]
     },
     "metadata": {},
     "output_type": "display_data"
    }
   ],
   "source": [
    "sns.distplot(random.poisson(lam=2,size=1000),hist=False,label='poissson')\n",
    "sns.distplot(random.poisson(lam=2, size=1000), kde=False)\n",
    "\n",
    "plt.show"
   ]
  },
  {
   "cell_type": "code",
   "execution_count": 244,
   "id": "3f19eded",
   "metadata": {},
   "outputs": [
    {
     "name": "stderr",
     "output_type": "stream",
     "text": [
      "C:\\Users\\sanjith shalu\\AppData\\Local\\Temp\\ipykernel_36360\\3521096022.py:1: UserWarning: \n",
      "\n",
      "`distplot` is a deprecated function and will be removed in seaborn v0.14.0.\n",
      "\n",
      "Please adapt your code to use either `displot` (a figure-level function with\n",
      "similar flexibility) or `histplot` (an axes-level function for histograms).\n",
      "\n",
      "For a guide to updating your code to use the new functions, please see\n",
      "https://gist.github.com/mwaskom/de44147ed2974457ad6372750bbe5751\n",
      "\n",
      "  sns.distplot(random.poisson(lam=2, size=1000), kde=False)\n"
     ]
    },
    {
     "data": {
      "image/png": "[encoded data removed]",
      "text/plain": [
       "<Figure size 640x480 with 1 Axes>"
      ]
     },
     "metadata": {},
     "output_type": "display_data"
    }
   ],
   "source": [
    "sns.distplot(random.poisson(lam=2, size=1000), kde=False)\n",
    "plt.show()"
   ]
  },
  {
   "cell_type": "code",
   "execution_count": 248,
   "id": "e491109a",
   "metadata": {},
   "outputs": [
    {
     "name": "stderr",
     "output_type": "stream",
     "text": [
      "C:\\Users\\sanjith shalu\\AppData\\Local\\Temp\\ipykernel_36360\\290515936.py:1: UserWarning: \n",
      "\n",
      "`distplot` is a deprecated function and will be removed in seaborn v0.14.0.\n",
      "\n",
      "Please adapt your code to use either `displot` (a figure-level function with\n",
      "similar flexibility) or `kdeplot` (an axes-level function for kernel density plots).\n",
      "\n",
      "For a guide to updating your code to use the new functions, please see\n",
      "https://gist.github.com/mwaskom/de44147ed2974457ad6372750bbe5751\n",
      "\n",
      "  sns.distplot(random.normal(loc=50, scale=7, size=1000), hist=False, label='normal')\n",
      "C:\\Users\\sanjith shalu\\AppData\\Local\\Temp\\ipykernel_36360\\290515936.py:2: UserWarning: \n",
      "\n",
      "`distplot` is a deprecated function and will be removed in seaborn v0.14.0.\n",
      "\n",
      "Please adapt your code to use either `displot` (a figure-level function with\n",
      "similar flexibility) or `kdeplot` (an axes-level function for kernel density plots).\n",
      "\n",
      "For a guide to updating your code to use the new functions, please see\n",
      "https://gist.github.com/mwaskom/de44147ed2974457ad6372750bbe5751\n",
      "\n",
      "  sns.distplot(random.poisson(lam=50, size=1000), hist=False, label='poisson')\n"
     ]
    },
    {
     "data": {
      "image/png": "[encoded data removed]",
      "text/plain": [
       "<Figure size 640x480 with 1 Axes>"
      ]
     },
     "metadata": {},
     "output_type": "display_data"
    }
   ],
   "source": [
    "\n",
    "sns.distplot(random.normal(loc=50, scale=7, size=1000), hist=False, label='normal')\n",
    "sns.distplot(random.poisson(lam=50, size=1000), hist=False, label='poisson')\n",
    "plt.show()"
   ]
  },
  {
   "cell_type": "raw",
   "id": "300cc974",
   "metadata": {},
   "source": []
  },
  {
   "cell_type": "code",
   "execution_count": 254,
   "id": "96d34563",
   "metadata": {},
   "outputs": [
    {
     "name": "stderr",
     "output_type": "stream",
     "text": [
      "C:\\Users\\sanjith shalu\\AppData\\Local\\Temp\\ipykernel_36360\\1337767612.py:1: UserWarning: \n",
      "\n",
      "`distplot` is a deprecated function and will be removed in seaborn v0.14.0.\n",
      "\n",
      "Please adapt your code to use either `displot` (a figure-level function with\n",
      "similar flexibility) or `kdeplot` (an axes-level function for kernel density plots).\n",
      "\n",
      "For a guide to updating your code to use the new functions, please see\n",
      "https://gist.github.com/mwaskom/de44147ed2974457ad6372750bbe5751\n",
      "\n",
      "  sns.distplot(random.binomial(n=1000,p=0.01,size=1000),hist=False)\n",
      "C:\\Users\\sanjith shalu\\AppData\\Local\\Temp\\ipykernel_36360\\1337767612.py:3: UserWarning: \n",
      "\n",
      "`distplot` is a deprecated function and will be removed in seaborn v0.14.0.\n",
      "\n",
      "Please adapt your code to use either `displot` (a figure-level function with\n",
      "similar flexibility) or `kdeplot` (an axes-level function for kernel density plots).\n",
      "\n",
      "For a guide to updating your code to use the new functions, please see\n",
      "https://gist.github.com/mwaskom/de44147ed2974457ad6372750bbe5751\n",
      "\n",
      "  sns.distplot(random.poisson(lam=10,size=1000),hist=False)\n"
     ]
    },
    {
     "data": {
      "image/png": "[encoded data removed]",
      "text/plain": [
       "<Figure size 640x480 with 1 Axes>"
      ]
     },
     "metadata": {},
     "output_type": "display_data"
    }
   ],
   "source": [
    "sns.distplot(random.binomial(n=1000,p=0.01,size=1000),hist=False)\n",
    "\n",
    "sns.distplot(random.poisson(lam=10,size=1000),hist=False)\n",
    "\n",
    "plt.show()"
   ]
  },
  {
   "cell_type": "markdown",
   "id": "f0a0d51a",
   "metadata": {},
   "source": [
    "# Uniform Distribution"
   ]
  },
  {
   "cell_type": "code",
   "execution_count": 256,
   "id": "a65a54fe",
   "metadata": {
    "scrolled": true
   },
   "outputs": [
    {
     "name": "stdout",
     "output_type": "stream",
     "text": [
      "[[0.71176998 0.48152006 0.10274472]\n",
      " [0.96024712 0.40618164 0.82664636]]\n"
     ]
    },
    {
     "name": "stderr",
     "output_type": "stream",
     "text": [
      "C:\\Users\\sanjith shalu\\AppData\\Local\\Temp\\ipykernel_36360\\2859727738.py:3: UserWarning: \n",
      "\n",
      "`distplot` is a deprecated function and will be removed in seaborn v0.14.0.\n",
      "\n",
      "Please adapt your code to use either `displot` (a figure-level function with\n",
      "similar flexibility) or `kdeplot` (an axes-level function for kernel density plots).\n",
      "\n",
      "For a guide to updating your code to use the new functions, please see\n",
      "https://gist.github.com/mwaskom/de44147ed2974457ad6372750bbe5751\n",
      "\n",
      "  sns.distplot(random.uniform(size=1000), hist=False)\n"
     ]
    },
    {
     "data": {
      "image/png": "[encoded data removed]",
      "text/plain": [
       "<Figure size 640x480 with 1 Axes>"
      ]
     },
     "metadata": {},
     "output_type": "display_data"
    }
   ],
   "source": [
    "x = random.uniform(size=(2, 3))\n",
    "print(x)\n",
    "sns.distplot(random.uniform(size=1000), hist=False)\n",
    "\n",
    "plt.show()"
   ]
  },
  {
   "cell_type": "code",
   "execution_count": null,
   "id": "2b0cc283",
   "metadata": {},
   "outputs": [],
   "source": []
  }
 ],
 "metadata": {
  "kernelspec": {
   "display_name": "Python 3 (ipykernel)",
   "language": "python",
   "name": "python3"
  },
  "language_info": {
   "codemirror_mode": {
    "name": "ipython",
    "version": 3
   },
   "file_extension": ".py",
   "mimetype": "text/x-python",
   "name": "python",
   "nbconvert_exporter": "python",
   "pygments_lexer": "ipython3",
   "version": "3.11.5"
  }
 },
 "nbformat": 4,
 "nbformat_minor": 5
}
